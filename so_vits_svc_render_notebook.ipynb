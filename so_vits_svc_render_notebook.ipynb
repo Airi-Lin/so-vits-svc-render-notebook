{
  "nbformat": 4,
  "nbformat_minor": 0,
  "metadata": {
    "colab": {
      "private_outputs": true,
      "provenance": []
    },
    "kernelspec": {
      "name": "python3",
      "display_name": "Python 3"
    },
    "language_info": {
      "name": "python"
    },
    "accelerator": "GPU",
    "gpuClass": "standard"
  },
  "cells": [
    {
      "cell_type": "code",
      "execution_count": null,
      "metadata": {
        "cellView": "form",
        "id": "FRkOfVsXI-yd"
      },
      "outputs": [],
      "source": [
        "#@title Check GPU (Make sure that the runtime env is with a GPU selected)\n",
        "!nvidia-smi"
      ]
    },
    {
      "cell_type": "code",
      "source": [
        "#@title Install Miniconda for using Python 3.8 instead of 3.9 (Takes 3.5 - 4 min to install )\n",
        "!wget -O mini.sh https://repo.anaconda.com/miniconda/Miniconda3-py38_4.12.0-Linux-x86_64.sh\n",
        "!chmod +x mini.sh\n",
        "!bash ./mini.sh -b -f -p /usr/local\n",
        "!conda install -q -y jupyter\n",
        "!conda install -q -y google-colab -c conda-forge\n",
        "!python -m ipykernel install --name \"py38\" --user"
      ],
      "metadata": {
        "cellView": "form",
        "id": "pg-3e6d1Mblb"
      },
      "execution_count": null,
      "outputs": []
    },
    {
      "cell_type": "code",
      "source": [
        "#@title Connect your Drive\n",
        "\n",
        "from google.colab import drive\n",
        "drive.mount('/content/drive')"
      ],
      "metadata": {
        "cellView": "form",
        "id": "xPgjRA0MJHD4"
      },
      "execution_count": null,
      "outputs": []
    },
    {
      "cell_type": "code",
      "source": [
        "#@title Install (Takes 4 - 6 minutes to install)\n",
        "!git clone https://github.com/Airi-Lin/so-vits-svc -b 4.0\n",
        "!pip install pyworld praat-parselmouth fairseq librosa matplotlib tensorboardX\n",
        "%cd /content/so-vits-svc\n",
        "!wget -P hubert/ https://huggingface.co/innnky/contentvec/resolve/main/checkpoint_best_legacy_500.pt"
      ],
      "metadata": {
        "cellView": "form",
        "id": "CAwGuG_LJL1k"
      },
      "execution_count": null,
      "outputs": []
    },
    {
      "cell_type": "code",
      "source": [
        "#@title Upload your input file (No spaces in the name and just MP3´s, FLAC´s and WAV´s are supported)\n",
        "from google.colab import files\n",
        "uploaded = files.upload()\n",
        "\n",
        "!mv *.mp3 *.wav *.flac /content/so-vits-svc/raw"
      ],
      "metadata": {
        "cellView": "form",
        "id": "Re8vqf7DKMTH"
      },
      "execution_count": null,
      "outputs": []
    },
    {
      "cell_type": "code",
      "source": [
        "#@title Render \n",
        "#@markdown Here put the needed data in this cell\n",
        "model_path = \"path_to_model\" #@param {type:\"string\"}\n",
        "config_file_path = \"path_to_config.json\" #@param {type:\"string\"}\n",
        "input_file = \"example.wav\" #@param {type:\"string\"}\n",
        "singer_name = \"singer\" #@param {type:\"string\"}\n",
        "key = \"0\" #@param {type:\"string\"}\n",
        " \n",
        "%cd /content/so-vits-svc\n",
        "!python inference_main.py -m {model_path} -c {config_file_path} -n {input_file} -s {singer_name} -t {key}"
      ],
      "metadata": {
        "cellView": "form",
        "id": "v9GfHgaBNDqD"
      },
      "execution_count": null,
      "outputs": []
    },
    {
      "cell_type": "code",
      "source": [
        "#@title Check the output´s name\n",
        "!cd /content/so-vits-svc/results && find . -type f -name \"*.flac\""
      ],
      "metadata": {
        "cellView": "form",
        "id": "wqqWl-z0NhXO"
      },
      "execution_count": null,
      "outputs": []
    },
    {
      "cell_type": "code",
      "source": [
        "#@title Play the results (Get the name from the earlier cell)\n",
        "%cd /content/so-vits-svc/results\n",
        "wav_name = \"\" #@param {type:\"string\"}\n",
        "rate=44100\n",
        "from IPython.display import Audio, display\n",
        "\n",
        "display(Audio(wav_name, rate=rate, autoplay=True))"
      ],
      "metadata": {
        "cellView": "form",
        "id": "s4rV0rw9NYS9"
      },
      "execution_count": null,
      "outputs": []
    }
  ]
}